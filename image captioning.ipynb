{
  "metadata": {
    "kernelspec": {
      "language": "python",
      "display_name": "Python 3",
      "name": "python3"
    },
    "language_info": {
      "name": "python",
      "version": "3.7.10",
      "mimetype": "text/x-python",
      "codemirror_mode": {
        "name": "ipython",
        "version": 3
      },
      "pygments_lexer": "ipython3",
      "nbconvert_exporter": "python",
      "file_extension": ".py"
    },
    "colab": {
      "name": "IC_without_Attention.ipynb",
      "provenance": [],
      "collapsed_sections": []
    },
    "accelerator": "GPU"
  },
  "nbformat_minor": 0,
  "nbformat": 4,
  "cells": [
    {
      "cell_type": "code",
      "source": [
        "from google.colab import drive\n",
        "drive.mount('/content/drive')"
      ],
      "metadata": {
        "colab": {
          "base_uri": "https://localhost:8080/"
        },
        "id": "9qNmDDZOQDPq",
        "outputId": "0766c2d2-cc04-4287-bf6c-df313db5028b"
      },
      "execution_count": null,
      "outputs": [
        {
          "output_type": "stream",
          "name": "stdout",
          "text": [
            "Mounted at /content/drive\n"
          ]
        }
      ]
    },
    {
      "cell_type": "code",
      "source": [
        "!unzip '/content/drive/Shareddrives/Image_Captioning/8k_image_captioning.zip'"
      ],
      "metadata": {
        "id": "mE6qBAkCQnsg"
      },
      "execution_count": null,
      "outputs": []
    },
    {
      "cell_type": "code",
      "source": [
        "import numpy as np\n",
        "import pandas as pd\n",
        "import matplotlib.pyplot as plt\n",
        "import tensorflow as tf\n",
        "from tensorflow import keras\n",
        "import cv2 as op\n",
        "import progressbar\n",
        "from collections import Counter\n",
        "from keras.preprocessing.text import Tokenizer\n",
        "from keras.applications.mobilenet import MobileNet\n",
        "from keras.models import Model\n",
        "from keras.layers import Dense, Dropout, Embedding, LSTM, Input, add, Conv2D\n",
        "from keras.preprocessing.image import load_img, img_to_array\n",
        "from keras.preprocessing.sequence import pad_sequences\n",
        "from keras.utils import np_utils\n",
        "import seaborn as sea\n",
        "from scipy import stats\n",
        "from keras import layers\n",
        "from os import listdir\n",
        "from keras.applications.vgg16 import preprocess_input\n",
        "from pickle import dump, load\n",
        "from sklearn.model_selection import KFold\n",
        "from tqdm import tqdm\n",
        "\n",
        "plt.style.use('seaborn')\n",
        "tf.__version__"
      ],
      "metadata": {
        "_uuid": "8f2839f25d086af736a60e9eeb907d3b93b6e0e5",
        "_cell_guid": "b1076dfc-b9ad-4769-8c92-a6c4dae69d19",
        "execution": {
          "iopub.status.busy": "2022-01-10T14:03:30.613874Z",
          "iopub.execute_input": "2022-01-10T14:03:30.614688Z",
          "iopub.status.idle": "2022-01-10T14:03:36.211283Z",
          "shell.execute_reply.started": "2022-01-10T14:03:30.614583Z",
          "shell.execute_reply": "2022-01-10T14:03:36.210510Z"
        },
        "trusted": true,
        "id": "eTPmXaCxfYxG",
        "colab": {
          "base_uri": "https://localhost:8080/",
          "height": 35
        },
        "outputId": "03fe4710-8f05-49bd-973e-22f02dd2c8f4"
      },
      "execution_count": null,
      "outputs": [
        {
          "output_type": "execute_result",
          "data": {
            "application/vnd.google.colaboratory.intrinsic+json": {
              "type": "string"
            },
            "text/plain": [
              "'2.7.0'"
            ]
          },
          "metadata": {},
          "execution_count": 3
        }
      ]
    },
    {
      "cell_type": "code",
      "source": [
        "df = pd.read_csv(\"/content/captions.txt\")"
      ],
      "metadata": {
        "execution": {
          "iopub.status.busy": "2022-01-10T14:03:36.213027Z",
          "iopub.execute_input": "2022-01-10T14:03:36.213302Z",
          "iopub.status.idle": "2022-01-10T14:03:36.312751Z",
          "shell.execute_reply.started": "2022-01-10T14:03:36.213266Z",
          "shell.execute_reply": "2022-01-10T14:03:36.312012Z"
        },
        "trusted": true,
        "id": "vAPRfIymfYxJ"
      },
      "execution_count": null,
      "outputs": []
    },
    {
      "cell_type": "code",
      "source": [
        "df.describe()"
      ],
      "metadata": {
        "execution": {
          "iopub.status.busy": "2022-01-10T14:03:36.314108Z",
          "iopub.execute_input": "2022-01-10T14:03:36.314382Z",
          "iopub.status.idle": "2022-01-10T14:03:36.380263Z",
          "shell.execute_reply.started": "2022-01-10T14:03:36.314338Z",
          "shell.execute_reply": "2022-01-10T14:03:36.379430Z"
        },
        "trusted": true,
        "id": "FJsofGCJfYxK",
        "colab": {
          "base_uri": "https://localhost:8080/",
          "height": 174
        },
        "outputId": "cb962478-44f2-4065-c787-93baf721c468"
      },
      "execution_count": null,
      "outputs": [
        {
          "output_type": "execute_result",
          "data": {
            "text/html": [
              "\n",
              "  <div id=\"df-744015e4-8689-425b-a78d-db5b6ddba02c\">\n",
              "    <div class=\"colab-df-container\">\n",
              "      <div>\n",
              "<style scoped>\n",
              "    .dataframe tbody tr th:only-of-type {\n",
              "        vertical-align: middle;\n",
              "    }\n",
              "\n",
              "    .dataframe tbody tr th {\n",
              "        vertical-align: top;\n",
              "    }\n",
              "\n",
              "    .dataframe thead th {\n",
              "        text-align: right;\n",
              "    }\n",
              "</style>\n",
              "<table border=\"1\" class=\"dataframe\">\n",
              "  <thead>\n",
              "    <tr style=\"text-align: right;\">\n",
              "      <th></th>\n",
              "      <th>image</th>\n",
              "      <th>caption</th>\n",
              "    </tr>\n",
              "  </thead>\n",
              "  <tbody>\n",
              "    <tr>\n",
              "      <th>count</th>\n",
              "      <td>40455</td>\n",
              "      <td>40455</td>\n",
              "    </tr>\n",
              "    <tr>\n",
              "      <th>unique</th>\n",
              "      <td>8091</td>\n",
              "      <td>40201</td>\n",
              "    </tr>\n",
              "    <tr>\n",
              "      <th>top</th>\n",
              "      <td>3582685410_05315a15b8.jpg</td>\n",
              "      <td>Two dogs playing in the snow .</td>\n",
              "    </tr>\n",
              "    <tr>\n",
              "      <th>freq</th>\n",
              "      <td>5</td>\n",
              "      <td>7</td>\n",
              "    </tr>\n",
              "  </tbody>\n",
              "</table>\n",
              "</div>\n",
              "      <button class=\"colab-df-convert\" onclick=\"convertToInteractive('df-744015e4-8689-425b-a78d-db5b6ddba02c')\"\n",
              "              title=\"Convert this dataframe to an interactive table.\"\n",
              "              style=\"display:none;\">\n",
              "        \n",
              "  <svg xmlns=\"http://www.w3.org/2000/svg\" height=\"24px\"viewBox=\"0 0 24 24\"\n",
              "       width=\"24px\">\n",
              "    <path d=\"M0 0h24v24H0V0z\" fill=\"none\"/>\n",
              "    <path d=\"M18.56 5.44l.94 2.06.94-2.06 2.06-.94-2.06-.94-.94-2.06-.94 2.06-2.06.94zm-11 1L8.5 8.5l.94-2.06 2.06-.94-2.06-.94L8.5 2.5l-.94 2.06-2.06.94zm10 10l.94 2.06.94-2.06 2.06-.94-2.06-.94-.94-2.06-.94 2.06-2.06.94z\"/><path d=\"M17.41 7.96l-1.37-1.37c-.4-.4-.92-.59-1.43-.59-.52 0-1.04.2-1.43.59L10.3 9.45l-7.72 7.72c-.78.78-.78 2.05 0 2.83L4 21.41c.39.39.9.59 1.41.59.51 0 1.02-.2 1.41-.59l7.78-7.78 2.81-2.81c.8-.78.8-2.07 0-2.86zM5.41 20L4 18.59l7.72-7.72 1.47 1.35L5.41 20z\"/>\n",
              "  </svg>\n",
              "      </button>\n",
              "      \n",
              "  <style>\n",
              "    .colab-df-container {\n",
              "      display:flex;\n",
              "      flex-wrap:wrap;\n",
              "      gap: 12px;\n",
              "    }\n",
              "\n",
              "    .colab-df-convert {\n",
              "      background-color: #E8F0FE;\n",
              "      border: none;\n",
              "      border-radius: 50%;\n",
              "      cursor: pointer;\n",
              "      display: none;\n",
              "      fill: #1967D2;\n",
              "      height: 32px;\n",
              "      padding: 0 0 0 0;\n",
              "      width: 32px;\n",
              "    }\n",
              "\n",
              "    .colab-df-convert:hover {\n",
              "      background-color: #E2EBFA;\n",
              "      box-shadow: 0px 1px 2px rgba(60, 64, 67, 0.3), 0px 1px 3px 1px rgba(60, 64, 67, 0.15);\n",
              "      fill: #174EA6;\n",
              "    }\n",
              "\n",
              "    [theme=dark] .colab-df-convert {\n",
              "      background-color: #3B4455;\n",
              "      fill: #D2E3FC;\n",
              "    }\n",
              "\n",
              "    [theme=dark] .colab-df-convert:hover {\n",
              "      background-color: #434B5C;\n",
              "      box-shadow: 0px 1px 3px 1px rgba(0, 0, 0, 0.15);\n",
              "      filter: drop-shadow(0px 1px 2px rgba(0, 0, 0, 0.3));\n",
              "      fill: #FFFFFF;\n",
              "    }\n",
              "  </style>\n",
              "\n",
              "      <script>\n",
              "        const buttonEl =\n",
              "          document.querySelector('#df-744015e4-8689-425b-a78d-db5b6ddba02c button.colab-df-convert');\n",
              "        buttonEl.style.display =\n",
              "          google.colab.kernel.accessAllowed ? 'block' : 'none';\n",
              "\n",
              "        async function convertToInteractive(key) {\n",
              "          const element = document.querySelector('#df-744015e4-8689-425b-a78d-db5b6ddba02c');\n",
              "          const dataTable =\n",
              "            await google.colab.kernel.invokeFunction('convertToInteractive',\n",
              "                                                     [key], {});\n",
              "          if (!dataTable) return;\n",
              "\n",
              "          const docLinkHtml = 'Like what you see? Visit the ' +\n",
              "            '<a target=\"_blank\" href=https://colab.research.google.com/notebooks/data_table.ipynb>data table notebook</a>'\n",
              "            + ' to learn more about interactive tables.';\n",
              "          element.innerHTML = '';\n",
              "          dataTable['output_type'] = 'display_data';\n",
              "          await google.colab.output.renderOutput(dataTable, element);\n",
              "          const docLink = document.createElement('div');\n",
              "          docLink.innerHTML = docLinkHtml;\n",
              "          element.appendChild(docLink);\n",
              "        }\n",
              "      </script>\n",
              "    </div>\n",
              "  </div>\n",
              "  "
            ],
            "text/plain": [
              "                            image                         caption\n",
              "count                       40455                           40455\n",
              "unique                       8091                           40201\n",
              "top     3582685410_05315a15b8.jpg  Two dogs playing in the snow .\n",
              "freq                            5                               7"
            ]
          },
          "metadata": {},
          "execution_count": 5
        }
      ]
    },
    {
      "cell_type": "code",
      "source": [
        "n_images = 8091\n",
        "n_captions = 40455\n",
        "8091 * 5 == 40455"
      ],
      "metadata": {
        "execution": {
          "iopub.status.busy": "2022-01-10T14:04:00.022367Z",
          "iopub.execute_input": "2022-01-10T14:04:00.022647Z",
          "iopub.status.idle": "2022-01-10T14:04:00.027779Z",
          "shell.execute_reply.started": "2022-01-10T14:04:00.022616Z",
          "shell.execute_reply": "2022-01-10T14:04:00.027021Z"
        },
        "trusted": true,
        "id": "Ei7P3oTRfYxK",
        "colab": {
          "base_uri": "https://localhost:8080/"
        },
        "outputId": "d5dbe7a0-41ed-47ed-e230-62321c3ce712"
      },
      "execution_count": null,
      "outputs": [
        {
          "output_type": "execute_result",
          "data": {
            "text/plain": [
              "True"
            ]
          },
          "metadata": {},
          "execution_count": 6
        }
      ]
    },
    {
      "cell_type": "code",
      "source": [
        "def get_mobileNet():\n",
        "    base_model = MobileNet(input_shape = (224,224,3), include_top = True)\n",
        "#     x = Conv2D(filters = 512, kernel_size = (1,1), activation = 'sigmoid')(base_model.layers[-5].output)\n",
        "    base_model = Model(inputs= base_model.inputs, outputs= base_model.layers[-5].output)\n",
        "    base_model.training = False\n",
        "    return base_model\n",
        "\n",
        "def get_vgg16():\n",
        "    base_model = VGG16(input_shape = (224,224,3), weights = 'imagenet', include_top = True)\n",
        "    base_model = Model(inputs = base_model.inputs, outputs = base_model.layers[-6].output)\n",
        "    base_model.training = False\n",
        "    return base_model\n",
        "\n",
        "def get_InceptionNet():\n",
        "    base_model = InceptionV3(input_shape = (229, 229, 3), weights = 'imagenet', include_top = False)\n",
        "    base_model = Model(inputs = base_model.inputs, outputs = base_model.layers[-2].output)\n",
        "    base_model.training = False\n",
        "    return base_model"
      ],
      "metadata": {
        "execution": {
          "iopub.status.busy": "2022-01-10T14:04:00.799249Z",
          "iopub.execute_input": "2022-01-10T14:04:00.799967Z",
          "iopub.status.idle": "2022-01-10T14:04:00.807339Z",
          "shell.execute_reply.started": "2022-01-10T14:04:00.799930Z",
          "shell.execute_reply": "2022-01-10T14:04:00.806290Z"
        },
        "trusted": true,
        "id": "GOGuOGTDfYxK"
      },
      "execution_count": null,
      "outputs": []
    },
    {
      "cell_type": "code",
      "source": [
        "base_model = get_mobileNet()\n",
        "base_model.summary()"
      ],
      "metadata": {
        "execution": {
          "iopub.status.busy": "2022-01-10T14:04:01.248384Z",
          "iopub.execute_input": "2022-01-10T14:04:01.248662Z",
          "iopub.status.idle": "2022-01-10T14:04:04.740922Z",
          "shell.execute_reply.started": "2022-01-10T14:04:01.248632Z",
          "shell.execute_reply": "2022-01-10T14:04:04.740109Z"
        },
        "trusted": true,
        "id": "nBF-0HRpfYxL",
        "colab": {
          "base_uri": "https://localhost:8080/"
        },
        "outputId": "e8d8a7ff-0f37-4dac-b56c-5f922d317145"
      },
      "execution_count": null,
      "outputs": [
        {
          "output_type": "stream",
          "name": "stdout",
          "text": [
            "Downloading data from https://storage.googleapis.com/tensorflow/keras-applications/mobilenet/mobilenet_1_0_224_tf.h5\n",
            "17227776/17225924 [==============================] - 0s 0us/step\n",
            "17235968/17225924 [==============================] - 0s 0us/step\n",
            "Model: \"model\"\n",
            "_________________________________________________________________\n",
            " Layer (type)                Output Shape              Param #   \n",
            "=================================================================\n",
            " input_1 (InputLayer)        [(None, 224, 224, 3)]     0         \n",
            "                                                                 \n",
            " conv1 (Conv2D)              (None, 112, 112, 32)      864       \n",
            "                                                                 \n",
            " conv1_bn (BatchNormalizatio  (None, 112, 112, 32)     128       \n",
            " n)                                                              \n",
            "                                                                 \n",
            " conv1_relu (ReLU)           (None, 112, 112, 32)      0         \n",
            "                                                                 \n",
            " conv_dw_1 (DepthwiseConv2D)  (None, 112, 112, 32)     288       \n",
            "                                                                 \n",
            " conv_dw_1_bn (BatchNormaliz  (None, 112, 112, 32)     128       \n",
            " ation)                                                          \n",
            "                                                                 \n",
            " conv_dw_1_relu (ReLU)       (None, 112, 112, 32)      0         \n",
            "                                                                 \n",
            " conv_pw_1 (Conv2D)          (None, 112, 112, 64)      2048      \n",
            "                                                                 \n",
            " conv_pw_1_bn (BatchNormaliz  (None, 112, 112, 64)     256       \n",
            " ation)                                                          \n",
            "                                                                 \n",
            " conv_pw_1_relu (ReLU)       (None, 112, 112, 64)      0         \n",
            "                                                                 \n",
            " conv_pad_2 (ZeroPadding2D)  (None, 113, 113, 64)      0         \n",
            "                                                                 \n",
            " conv_dw_2 (DepthwiseConv2D)  (None, 56, 56, 64)       576       \n",
            "                                                                 \n",
            " conv_dw_2_bn (BatchNormaliz  (None, 56, 56, 64)       256       \n",
            " ation)                                                          \n",
            "                                                                 \n",
            " conv_dw_2_relu (ReLU)       (None, 56, 56, 64)        0         \n",
            "                                                                 \n",
            " conv_pw_2 (Conv2D)          (None, 56, 56, 128)       8192      \n",
            "                                                                 \n",
            " conv_pw_2_bn (BatchNormaliz  (None, 56, 56, 128)      512       \n",
            " ation)                                                          \n",
            "                                                                 \n",
            " conv_pw_2_relu (ReLU)       (None, 56, 56, 128)       0         \n",
            "                                                                 \n",
            " conv_dw_3 (DepthwiseConv2D)  (None, 56, 56, 128)      1152      \n",
            "                                                                 \n",
            " conv_dw_3_bn (BatchNormaliz  (None, 56, 56, 128)      512       \n",
            " ation)                                                          \n",
            "                                                                 \n",
            " conv_dw_3_relu (ReLU)       (None, 56, 56, 128)       0         \n",
            "                                                                 \n",
            " conv_pw_3 (Conv2D)          (None, 56, 56, 128)       16384     \n",
            "                                                                 \n",
            " conv_pw_3_bn (BatchNormaliz  (None, 56, 56, 128)      512       \n",
            " ation)                                                          \n",
            "                                                                 \n",
            " conv_pw_3_relu (ReLU)       (None, 56, 56, 128)       0         \n",
            "                                                                 \n",
            " conv_pad_4 (ZeroPadding2D)  (None, 57, 57, 128)       0         \n",
            "                                                                 \n",
            " conv_dw_4 (DepthwiseConv2D)  (None, 28, 28, 128)      1152      \n",
            "                                                                 \n",
            " conv_dw_4_bn (BatchNormaliz  (None, 28, 28, 128)      512       \n",
            " ation)                                                          \n",
            "                                                                 \n",
            " conv_dw_4_relu (ReLU)       (None, 28, 28, 128)       0         \n",
            "                                                                 \n",
            " conv_pw_4 (Conv2D)          (None, 28, 28, 256)       32768     \n",
            "                                                                 \n",
            " conv_pw_4_bn (BatchNormaliz  (None, 28, 28, 256)      1024      \n",
            " ation)                                                          \n",
            "                                                                 \n",
            " conv_pw_4_relu (ReLU)       (None, 28, 28, 256)       0         \n",
            "                                                                 \n",
            " conv_dw_5 (DepthwiseConv2D)  (None, 28, 28, 256)      2304      \n",
            "                                                                 \n",
            " conv_dw_5_bn (BatchNormaliz  (None, 28, 28, 256)      1024      \n",
            " ation)                                                          \n",
            "                                                                 \n",
            " conv_dw_5_relu (ReLU)       (None, 28, 28, 256)       0         \n",
            "                                                                 \n",
            " conv_pw_5 (Conv2D)          (None, 28, 28, 256)       65536     \n",
            "                                                                 \n",
            " conv_pw_5_bn (BatchNormaliz  (None, 28, 28, 256)      1024      \n",
            " ation)                                                          \n",
            "                                                                 \n",
            " conv_pw_5_relu (ReLU)       (None, 28, 28, 256)       0         \n",
            "                                                                 \n",
            " conv_pad_6 (ZeroPadding2D)  (None, 29, 29, 256)       0         \n",
            "                                                                 \n",
            " conv_dw_6 (DepthwiseConv2D)  (None, 14, 14, 256)      2304      \n",
            "                                                                 \n",
            " conv_dw_6_bn (BatchNormaliz  (None, 14, 14, 256)      1024      \n",
            " ation)                                                          \n",
            "                                                                 \n",
            " conv_dw_6_relu (ReLU)       (None, 14, 14, 256)       0         \n",
            "                                                                 \n",
            " conv_pw_6 (Conv2D)          (None, 14, 14, 512)       131072    \n",
            "                                                                 \n",
            " conv_pw_6_bn (BatchNormaliz  (None, 14, 14, 512)      2048      \n",
            " ation)                                                          \n",
            "                                                                 \n",
            " conv_pw_6_relu (ReLU)       (None, 14, 14, 512)       0         \n",
            "                                                                 \n",
            " conv_dw_7 (DepthwiseConv2D)  (None, 14, 14, 512)      4608      \n",
            "                                                                 \n",
            " conv_dw_7_bn (BatchNormaliz  (None, 14, 14, 512)      2048      \n",
            " ation)                                                          \n",
            "                                                                 \n",
            " conv_dw_7_relu (ReLU)       (None, 14, 14, 512)       0         \n",
            "                                                                 \n",
            " conv_pw_7 (Conv2D)          (None, 14, 14, 512)       262144    \n",
            "                                                                 \n",
            " conv_pw_7_bn (BatchNormaliz  (None, 14, 14, 512)      2048      \n",
            " ation)                                                          \n",
            "                                                                 \n",
            " conv_pw_7_relu (ReLU)       (None, 14, 14, 512)       0         \n",
            "                                                                 \n",
            " conv_dw_8 (DepthwiseConv2D)  (None, 14, 14, 512)      4608      \n",
            "                                                                 \n",
            " conv_dw_8_bn (BatchNormaliz  (None, 14, 14, 512)      2048      \n",
            " ation)                                                          \n",
            "                                                                 \n",
            " conv_dw_8_relu (ReLU)       (None, 14, 14, 512)       0         \n",
            "                                                                 \n",
            " conv_pw_8 (Conv2D)          (None, 14, 14, 512)       262144    \n",
            "                                                                 \n",
            " conv_pw_8_bn (BatchNormaliz  (None, 14, 14, 512)      2048      \n",
            " ation)                                                          \n",
            "                                                                 \n",
            " conv_pw_8_relu (ReLU)       (None, 14, 14, 512)       0         \n",
            "                                                                 \n",
            " conv_dw_9 (DepthwiseConv2D)  (None, 14, 14, 512)      4608      \n",
            "                                                                 \n",
            " conv_dw_9_bn (BatchNormaliz  (None, 14, 14, 512)      2048      \n",
            " ation)                                                          \n",
            "                                                                 \n",
            " conv_dw_9_relu (ReLU)       (None, 14, 14, 512)       0         \n",
            "                                                                 \n",
            " conv_pw_9 (Conv2D)          (None, 14, 14, 512)       262144    \n",
            "                                                                 \n",
            " conv_pw_9_bn (BatchNormaliz  (None, 14, 14, 512)      2048      \n",
            " ation)                                                          \n",
            "                                                                 \n",
            " conv_pw_9_relu (ReLU)       (None, 14, 14, 512)       0         \n",
            "                                                                 \n",
            " conv_dw_10 (DepthwiseConv2D  (None, 14, 14, 512)      4608      \n",
            " )                                                               \n",
            "                                                                 \n",
            " conv_dw_10_bn (BatchNormali  (None, 14, 14, 512)      2048      \n",
            " zation)                                                         \n",
            "                                                                 \n",
            " conv_dw_10_relu (ReLU)      (None, 14, 14, 512)       0         \n",
            "                                                                 \n",
            " conv_pw_10 (Conv2D)         (None, 14, 14, 512)       262144    \n",
            "                                                                 \n",
            " conv_pw_10_bn (BatchNormali  (None, 14, 14, 512)      2048      \n",
            " zation)                                                         \n",
            "                                                                 \n",
            " conv_pw_10_relu (ReLU)      (None, 14, 14, 512)       0         \n",
            "                                                                 \n",
            " conv_dw_11 (DepthwiseConv2D  (None, 14, 14, 512)      4608      \n",
            " )                                                               \n",
            "                                                                 \n",
            " conv_dw_11_bn (BatchNormali  (None, 14, 14, 512)      2048      \n",
            " zation)                                                         \n",
            "                                                                 \n",
            " conv_dw_11_relu (ReLU)      (None, 14, 14, 512)       0         \n",
            "                                                                 \n",
            " conv_pw_11 (Conv2D)         (None, 14, 14, 512)       262144    \n",
            "                                                                 \n",
            " conv_pw_11_bn (BatchNormali  (None, 14, 14, 512)      2048      \n",
            " zation)                                                         \n",
            "                                                                 \n",
            " conv_pw_11_relu (ReLU)      (None, 14, 14, 512)       0         \n",
            "                                                                 \n",
            " conv_pad_12 (ZeroPadding2D)  (None, 15, 15, 512)      0         \n",
            "                                                                 \n",
            " conv_dw_12 (DepthwiseConv2D  (None, 7, 7, 512)        4608      \n",
            " )                                                               \n",
            "                                                                 \n",
            " conv_dw_12_bn (BatchNormali  (None, 7, 7, 512)        2048      \n",
            " zation)                                                         \n",
            "                                                                 \n",
            " conv_dw_12_relu (ReLU)      (None, 7, 7, 512)         0         \n",
            "                                                                 \n",
            " conv_pw_12 (Conv2D)         (None, 7, 7, 1024)        524288    \n",
            "                                                                 \n",
            " conv_pw_12_bn (BatchNormali  (None, 7, 7, 1024)       4096      \n",
            " zation)                                                         \n",
            "                                                                 \n",
            " conv_pw_12_relu (ReLU)      (None, 7, 7, 1024)        0         \n",
            "                                                                 \n",
            " conv_dw_13 (DepthwiseConv2D  (None, 7, 7, 1024)       9216      \n",
            " )                                                               \n",
            "                                                                 \n",
            " conv_dw_13_bn (BatchNormali  (None, 7, 7, 1024)       4096      \n",
            " zation)                                                         \n",
            "                                                                 \n",
            " conv_dw_13_relu (ReLU)      (None, 7, 7, 1024)        0         \n",
            "                                                                 \n",
            " conv_pw_13 (Conv2D)         (None, 7, 7, 1024)        1048576   \n",
            "                                                                 \n",
            " conv_pw_13_bn (BatchNormali  (None, 7, 7, 1024)       4096      \n",
            " zation)                                                         \n",
            "                                                                 \n",
            " conv_pw_13_relu (ReLU)      (None, 7, 7, 1024)        0         \n",
            "                                                                 \n",
            " global_average_pooling2d (G  (None, 1, 1, 1024)       0         \n",
            " lobalAveragePooling2D)                                          \n",
            "                                                                 \n",
            "=================================================================\n",
            "Total params: 3,228,864\n",
            "Trainable params: 3,206,976\n",
            "Non-trainable params: 21,888\n",
            "_________________________________________________________________\n"
          ]
        }
      ]
    },
    {
      "cell_type": "code",
      "source": [
        "def load_preprocess_image(path):\n",
        "    img = op.imread(path)\n",
        "    img = op.cvtColor(img, op.COLOR_BGR2RGB)\n",
        "    img = op.resize(img, (224,224))\n",
        "    img = img/255.0\n",
        "    img = img.reshape(1,224,224,3)\n",
        "    return img\n"
      ],
      "metadata": {
        "execution": {
          "iopub.status.busy": "2022-01-10T14:04:04.744096Z",
          "iopub.execute_input": "2022-01-10T14:04:04.744310Z",
          "iopub.status.idle": "2022-01-10T14:04:04.752069Z",
          "shell.execute_reply.started": "2022-01-10T14:04:04.744283Z",
          "shell.execute_reply": "2022-01-10T14:04:04.751240Z"
        },
        "trusted": true,
        "id": "ndiZL5rPfYxM"
      },
      "execution_count": null,
      "outputs": []
    },
    {
      "cell_type": "code",
      "source": [
        "img = load_preprocess_image('/content/Images/102351840_323e3de834.jpg')\n",
        "plt.imshow(img[0])"
      ],
      "metadata": {
        "execution": {
          "iopub.status.busy": "2022-01-10T14:04:04.754768Z",
          "iopub.execute_input": "2022-01-10T14:04:04.755055Z",
          "iopub.status.idle": "2022-01-10T14:04:05.158022Z",
          "shell.execute_reply.started": "2022-01-10T14:04:04.755017Z",
          "shell.execute_reply": "2022-01-10T14:04:05.157257Z"
        },
        "trusted": true,
        "id": "ukWO-XeNfYxM",
        "colab": {
          "base_uri": "https://localhost:8080/",
          "height": 182
        },
        "outputId": "b0164d5a-37af-41db-b8f1-9e50e06591b0"
      },
      "execution_count": null,
      "outputs": [
        {
          "output_type": "error",
          "ename": "NameError",
          "evalue": "ignored",
          "traceback": [
            "\u001b[0;31m---------------------------------------------------------------------------\u001b[0m",
            "\u001b[0;31mNameError\u001b[0m                                 Traceback (most recent call last)",
            "\u001b[0;32m<ipython-input-19-d83ec46ab475>\u001b[0m in \u001b[0;36m<module>\u001b[0;34m()\u001b[0m\n\u001b[0;32m----> 1\u001b[0;31m \u001b[0mimg\u001b[0m \u001b[0;34m=\u001b[0m \u001b[0mload_preprocess_image\u001b[0m\u001b[0;34m(\u001b[0m\u001b[0;34m'/content/Images/102351840_323e3de834.jpg'\u001b[0m\u001b[0;34m)\u001b[0m\u001b[0;34m\u001b[0m\u001b[0;34m\u001b[0m\u001b[0m\n\u001b[0m\u001b[1;32m      2\u001b[0m \u001b[0mplt\u001b[0m\u001b[0;34m.\u001b[0m\u001b[0mimshow\u001b[0m\u001b[0;34m(\u001b[0m\u001b[0mimg\u001b[0m\u001b[0;34m[\u001b[0m\u001b[0;36m0\u001b[0m\u001b[0;34m]\u001b[0m\u001b[0;34m)\u001b[0m\u001b[0;34m\u001b[0m\u001b[0;34m\u001b[0m\u001b[0m\n",
            "\u001b[0;31mNameError\u001b[0m: name 'load_preprocess_image' is not defined"
          ]
        }
      ]
    },
    {
      "cell_type": "code",
      "source": [
        "def extract_features(directory):\n",
        "    \n",
        "    features = dict()\n",
        "    \n",
        "    for i, name in enumerate(listdir(directory)):\n",
        "        img = load_preprocess_image(directory + \"/\" + name)\n",
        "        fvec = base_model.predict(img, verbose = 0)\n",
        "        features[name] = fvec\n",
        "\n",
        "        if((i+1) % 1000 == 0):\n",
        "            print((i+1),'Done')\n",
        "    \n",
        "    return features"
      ],
      "metadata": {
        "execution": {
          "iopub.status.busy": "2022-01-10T14:04:05.159590Z",
          "iopub.execute_input": "2022-01-10T14:04:05.160456Z",
          "iopub.status.idle": "2022-01-10T14:04:05.167363Z",
          "shell.execute_reply.started": "2022-01-10T14:04:05.160427Z",
          "shell.execute_reply": "2022-01-10T14:04:05.166706Z"
        },
        "trusted": true,
        "id": "hYNwhYzffYxN"
      },
      "execution_count": null,
      "outputs": []
    },
    {
      "cell_type": "code",
      "source": [
        "#There is no need to run this and the cell after this as pkl file is there in the shared drive\n",
        "DIR = '/content/Images'\n",
        "\n",
        "features = extract_features(DIR)"
      ],
      "metadata": {
        "execution": {
          "iopub.status.busy": "2022-01-08T14:02:38.728173Z",
          "iopub.execute_input": "2022-01-08T14:02:38.728429Z",
          "iopub.status.idle": "2022-01-08T14:02:45.695846Z",
          "shell.execute_reply.started": "2022-01-08T14:02:38.7284Z",
          "shell.execute_reply": "2022-01-08T14:02:45.694625Z"
        },
        "collapsed": true,
        "jupyter": {
          "outputs_hidden": true
        },
        "trusted": true,
        "id": "_XIHaBqLfYxN"
      },
      "execution_count": null,
      "outputs": []
    },
    {
      "cell_type": "code",
      "source": [
        "dump(features, open('features.pkl', 'wb'))\n",
        "del features"
      ],
      "metadata": {
        "execution": {
          "iopub.status.busy": "2021-12-29T10:35:50.382513Z",
          "iopub.execute_input": "2021-12-29T10:35:50.382787Z",
          "iopub.status.idle": "2021-12-29T10:35:50.508953Z",
          "shell.execute_reply.started": "2021-12-29T10:35:50.382756Z",
          "shell.execute_reply": "2021-12-29T10:35:50.508214Z"
        },
        "trusted": true,
        "id": "SqcMZvJnfYxO"
      },
      "execution_count": null,
      "outputs": []
    },
    {
      "cell_type": "code",
      "source": [
        "import string\n",
        "\n",
        "def remove_punctuation(text_original):\n",
        "    text_no_punctuation = text_original.translate(str.maketrans('','',string.punctuation))\n",
        "    return(text_no_punctuation)\n",
        "\n",
        "def remove_numeric(text,printTF=False):\n",
        "    text_no_numeric = \"\"\n",
        "    for word in text.split():\n",
        "        isalpha = word.isalpha()\n",
        "        if printTF:\n",
        "            print(\"    {:10} : {:}\".format(word,isalpha))\n",
        "        if isalpha:\n",
        "            text_no_numeric += \" \" + word\n",
        "    return(text_no_numeric)\n",
        "\n",
        "def lower_text(text):\n",
        "    return str(text).lower()\n",
        "\n",
        "def add_start_end(caption):\n",
        "    caps = []\n",
        "    for cap in caption:\n",
        "        cap = 'startseq' + cap + ' endseq'\n",
        "        caps.append(cap)\n",
        "    return caps"
      ],
      "metadata": {
        "execution": {
          "iopub.status.busy": "2022-01-10T14:04:09.293288Z",
          "iopub.execute_input": "2022-01-10T14:04:09.294165Z",
          "iopub.status.idle": "2022-01-10T14:04:09.302005Z",
          "shell.execute_reply.started": "2022-01-10T14:04:09.294117Z",
          "shell.execute_reply": "2022-01-10T14:04:09.300992Z"
        },
        "trusted": true,
        "id": "AmGEq368fYxO"
      },
      "execution_count": null,
      "outputs": []
    },
    {
      "cell_type": "code",
      "source": [
        "def text_clean(text_original):\n",
        "    text = remove_punctuation(text_original)\n",
        "    text = remove_numeric(text)\n",
        "    text = lower_text(text)\n",
        "    return(text)\n",
        "\n",
        "with progressbar.ProgressBar(max_value=len(df.caption.values)) as bar:\n",
        "    for i, caption in enumerate(df.caption.values):\n",
        "        newcaption = text_clean(caption)\n",
        "        df[\"caption\"].iloc[i] = newcaption\n",
        "        bar.update(i)"
      ],
      "metadata": {
        "execution": {
          "iopub.status.busy": "2022-01-10T14:04:09.540544Z",
          "iopub.execute_input": "2022-01-10T14:04:09.541622Z",
          "iopub.status.idle": "2022-01-10T14:04:23.283361Z",
          "shell.execute_reply.started": "2022-01-10T14:04:09.541544Z",
          "shell.execute_reply": "2022-01-10T14:04:23.282637Z"
        },
        "trusted": true,
        "id": "mgzmb-VlfYxO",
        "colab": {
          "base_uri": "https://localhost:8080/"
        },
        "outputId": "65edd39d-afc2-4e2b-83e1-0733ef2bc6fb"
      },
      "execution_count": null,
      "outputs": [
        {
          "output_type": "stream",
          "name": "stderr",
          "text": [
            "100% (40455 of 40455) |##################| Elapsed Time: 0:00:15 Time:  0:00:15\n"
          ]
        }
      ]
    },
    {
      "cell_type": "code",
      "source": [
        "df['caption'] = add_start_end(df['caption'])"
      ],
      "metadata": {
        "execution": {
          "iopub.status.busy": "2022-01-10T14:04:51.262304Z",
          "iopub.execute_input": "2022-01-10T14:04:51.262590Z",
          "iopub.status.idle": "2022-01-10T14:04:51.291412Z",
          "shell.execute_reply.started": "2022-01-10T14:04:51.262542Z",
          "shell.execute_reply": "2022-01-10T14:04:51.290603Z"
        },
        "trusted": true,
        "id": "iwNjkzHnfYxP"
      },
      "execution_count": null,
      "outputs": []
    },
    {
      "cell_type": "code",
      "source": [
        "df['caption'].values"
      ],
      "metadata": {
        "execution": {
          "iopub.status.busy": "2022-01-10T14:04:52.207388Z",
          "iopub.execute_input": "2022-01-10T14:04:52.207654Z",
          "iopub.status.idle": "2022-01-10T14:04:52.213790Z",
          "shell.execute_reply.started": "2022-01-10T14:04:52.207626Z",
          "shell.execute_reply": "2022-01-10T14:04:52.213016Z"
        },
        "trusted": true,
        "id": "9k-F_VxyfYxP",
        "colab": {
          "base_uri": "https://localhost:8080/"
        },
        "outputId": "dfe29d66-3e88-4d25-92b4-9f7759b407de"
      },
      "execution_count": null,
      "outputs": [
        {
          "output_type": "execute_result",
          "data": {
            "text/plain": [
              "array(['startseq a child in a pink dress is climbing up a set of stairs in an entry way endseq',\n",
              "       'startseq a girl going into a wooden building endseq',\n",
              "       'startseq a little girl climbing into a wooden playhouse endseq',\n",
              "       ...,\n",
              "       'startseq a person in a red shirt climbing up a rock face covered in assist handles endseq',\n",
              "       'startseq a rock climber in a red shirt endseq',\n",
              "       'startseq a rock climber practices on a rock climbing wall endseq'],\n",
              "      dtype=object)"
            ]
          },
          "metadata": {},
          "execution_count": 15
        }
      ]
    },
    {
      "cell_type": "code",
      "source": [
        "def get_vocab_len():\n",
        "    vocabulary = []\n",
        "\n",
        "    for i in range(len(df)):\n",
        "        try:\n",
        "            temp = df.iloc[i,1]\n",
        "            vocabulary.extend(temp.split())\n",
        "        except:\n",
        "            print(i)\n",
        "\n",
        "    return len(set(vocabulary))"
      ],
      "metadata": {
        "execution": {
          "iopub.status.busy": "2022-01-10T14:04:53.172298Z",
          "iopub.execute_input": "2022-01-10T14:04:53.173054Z",
          "iopub.status.idle": "2022-01-10T14:04:53.178340Z",
          "shell.execute_reply.started": "2022-01-10T14:04:53.173013Z",
          "shell.execute_reply": "2022-01-10T14:04:53.177405Z"
        },
        "trusted": true,
        "id": "aQzdY6g6fYxP"
      },
      "execution_count": null,
      "outputs": []
    },
    {
      "cell_type": "code",
      "source": [
        "n_vocab = get_vocab_len()\n",
        "n_vocab += 1\n",
        "print(n_vocab)"
      ],
      "metadata": {
        "execution": {
          "iopub.status.busy": "2022-01-10T14:04:53.913471Z",
          "iopub.execute_input": "2022-01-10T14:04:53.914166Z",
          "iopub.status.idle": "2022-01-10T14:04:55.184821Z",
          "shell.execute_reply.started": "2022-01-10T14:04:53.914127Z",
          "shell.execute_reply": "2022-01-10T14:04:55.183994Z"
        },
        "trusted": true,
        "id": "iLHTt0KTfYxQ",
        "colab": {
          "base_uri": "https://localhost:8080/"
        },
        "outputId": "cd561371-2bd3-40cb-8a84-b6f47fa238a0"
      },
      "execution_count": null,
      "outputs": [
        {
          "output_type": "stream",
          "name": "stdout",
          "text": [
            "8778\n"
          ]
        }
      ]
    },
    {
      "cell_type": "code",
      "source": [
        "tokenizer = Tokenizer(n_vocab)\n",
        "\n",
        "tokenizer.fit_on_texts(df['caption'].values)\n",
        "\n",
        "# tokenized_captions = tokenizer.texts_to_sequences(df['caption'].values)"
      ],
      "metadata": {
        "execution": {
          "iopub.status.busy": "2022-01-10T14:04:55.186515Z",
          "iopub.execute_input": "2022-01-10T14:04:55.186947Z",
          "iopub.status.idle": "2022-01-10T14:04:55.816065Z",
          "shell.execute_reply.started": "2022-01-10T14:04:55.186907Z",
          "shell.execute_reply": "2022-01-10T14:04:55.815326Z"
        },
        "trusted": true,
        "id": "W5sQcNdafYxQ"
      },
      "execution_count": null,
      "outputs": []
    },
    {
      "cell_type": "code",
      "source": [
        "word2idx = tokenizer.word_index\n",
        "word2idx['pad'] = 0\n",
        "idx2word = dict((idx, word) for (word, idx) in word2idx.items())\n",
        "\n",
        "def decode(seq):\n",
        "    return \" \".join([idx2word.get(idx, \"?\") for idx in seq])"
      ],
      "metadata": {
        "execution": {
          "iopub.status.busy": "2022-01-10T14:04:55.817294Z",
          "iopub.execute_input": "2022-01-10T14:04:55.817540Z",
          "iopub.status.idle": "2022-01-10T14:04:55.826437Z",
          "shell.execute_reply.started": "2022-01-10T14:04:55.817507Z",
          "shell.execute_reply": "2022-01-10T14:04:55.825757Z"
        },
        "trusted": true,
        "id": "gkAFNwTCfYxQ"
      },
      "execution_count": null,
      "outputs": []
    },
    {
      "cell_type": "code",
      "source": [
        "\n",
        "all_features = load(open('/content/drive/Shareddrives/Image_Captioning/features.pkl', 'rb'))\n",
        "for key in all_features.keys():\n",
        "    all_features[key] = np.reshape(all_features[key], (1024, ))\n",
        "    \n",
        "PATH = '/content/Images'\n",
        "\n",
        "def create_sequences(captions, images, seq_len = 6):\n",
        "    X1, X2, y = [], [], []\n",
        "\n",
        "    for cap, img in zip(captions, images):\n",
        "        cap = cap.split()\n",
        "        # predicting each next word\n",
        "        # earlier window was selected and then next word was predicted\n",
        "        # problem observed was initial words were not predicted during testing, since they weren't predicted during training itself\n",
        "        for i in range(0, len(cap)-1):\n",
        "            in_seq = tokenizer.texts_to_sequences([cap[0 : i + 1]])\n",
        "            in_seq = pad_sequences(in_seq, maxlen = seq_len, padding = 'post')[0]\n",
        "            out_seq = word2idx[cap[i + 1]]\n",
        "            \n",
        "            if(sum(in_seq) == 0):\n",
        "                break\n",
        "            \n",
        "            X1.append(in_seq)\n",
        "            X2.append(all_features[img])\n",
        "            y.append(np_utils.to_categorical(out_seq, n_vocab))\n",
        "    \n",
        "    return np.array(X1), np.array(X2), np.array(y)"
      ],
      "metadata": {
        "execution": {
          "iopub.status.busy": "2022-01-10T14:04:55.828223Z",
          "iopub.execute_input": "2022-01-10T14:04:55.828835Z",
          "iopub.status.idle": "2022-01-10T14:04:56.831107Z",
          "shell.execute_reply.started": "2022-01-10T14:04:55.828788Z",
          "shell.execute_reply": "2022-01-10T14:04:56.830346Z"
        },
        "trusted": true,
        "id": "x5ZA0c__fYxQ"
      },
      "execution_count": null,
      "outputs": []
    },
    {
      "cell_type": "code",
      "source": [
        "class MyModel(keras.Model):\n",
        "    \n",
        "    def __init__(self, units, embedding_dim, seq_len, n_vocab):\n",
        "        super(MyModel, self).__init__()\n",
        "        self.fc1 = Dense(256, activation = 'relu')\n",
        "        self.fc2 = Dense(units * 2, activation = 'relu', kernel_regularizer = keras.regularizers.L2(0.01))\n",
        "        self.fc3 = Dense(n_vocab, activation = 'softmax')\n",
        "        self.Embedding = Embedding(n_vocab, embedding_dim, mask_zero = True)\n",
        "        self.LSTM1 = LSTM(256, return_sequences = True, kernel_regularizer = keras.regularizers.L2(0.03))\n",
        "        self.LSTM2 = LSTM(units, kernel_regularizer = keras.regularizers.L2(0.01))\n",
        "        self.dropout = Dropout(0.4)\n",
        "        self.repeat = keras.layers.RepeatVector(6)\n",
        "        \n",
        "    def call(self, features, sequence):   # features = (bs, 1024), sequence = (bs, 6) \n",
        "\n",
        "        features = self.fc1(features)   # features = (bs, 256)\n",
        "        \n",
        "        sequence = self.Embedding(sequence) # sequence = (bs, 6, 128)\n",
        "        sequence = tf.concat([self.repeat(features), sequence], axis = -1) # sequence = (bs, 6, 384) \n",
        "        sequence = self.LSTM1(sequence)  # sequence = (bs, 6, 256)\n",
        "        sequence = self.dropout(sequence)\n",
        "        sequence = self.LSTM2(sequence) # sequence = (bs, 512)\n",
        "        \n",
        "        sequence = tf.concat([features, sequence], axis = -1)  # sequence = (bs, 768)\n",
        "        sequence = self.dropout(sequence)\n",
        "        sequence = self.fc2(sequence)   # sequence = (bs, 1024)\n",
        "        sequence = self.dropout(sequence) \n",
        "        \n",
        "        out = self.fc3(sequence)   #sequence = (bs, n_vocab)\n",
        "        \n",
        "        return out"
      ],
      "metadata": {
        "execution": {
          "iopub.status.busy": "2022-01-10T14:04:56.834494Z",
          "iopub.execute_input": "2022-01-10T14:04:56.835069Z",
          "iopub.status.idle": "2022-01-10T14:04:57.122381Z",
          "shell.execute_reply.started": "2022-01-10T14:04:56.835037Z",
          "shell.execute_reply": "2022-01-10T14:04:57.121620Z"
        },
        "trusted": true,
        "id": "v__7sh18fYxQ"
      },
      "execution_count": null,
      "outputs": []
    },
    {
      "cell_type": "code",
      "source": [
        "embedding_dim = 256\n",
        "seq_len = 6\n",
        "units = 512\n",
        "\n",
        "model = MyModel(units, embedding_dim, seq_len, n_vocab)\n",
        "# model.summary()"
      ],
      "metadata": {
        "execution": {
          "iopub.status.busy": "2022-01-10T14:04:57.341350Z",
          "iopub.execute_input": "2022-01-10T14:04:57.341637Z",
          "iopub.status.idle": "2022-01-10T14:04:57.367730Z",
          "shell.execute_reply.started": "2022-01-10T14:04:57.341605Z",
          "shell.execute_reply": "2022-01-10T14:04:57.366978Z"
        },
        "trusted": true,
        "id": "0yt3SdJJfYxR"
      },
      "execution_count": null,
      "outputs": []
    },
    {
      "cell_type": "code",
      "source": [
        "# keras.utils.plot_model(model, show_shapes =True)"
      ],
      "metadata": {
        "execution": {
          "iopub.status.busy": "2022-01-10T14:04:57.851697Z",
          "iopub.execute_input": "2022-01-10T14:04:57.852678Z",
          "iopub.status.idle": "2022-01-10T14:04:58.831053Z",
          "shell.execute_reply.started": "2022-01-10T14:04:57.852635Z",
          "shell.execute_reply": "2022-01-10T14:04:58.830327Z"
        },
        "trusted": true,
        "id": "T8aeXcaVfYxR"
      },
      "execution_count": null,
      "outputs": []
    },
    {
      "cell_type": "code",
      "source": [
        "loss, val = [], []"
      ],
      "metadata": {
        "execution": {
          "iopub.status.busy": "2022-01-10T14:04:59.700601Z",
          "iopub.execute_input": "2022-01-10T14:04:59.701354Z",
          "iopub.status.idle": "2022-01-10T14:04:59.706853Z",
          "shell.execute_reply.started": "2022-01-10T14:04:59.701314Z",
          "shell.execute_reply": "2022-01-10T14:04:59.705417Z"
        },
        "trusted": true,
        "id": "FqjR-rLefYxR"
      },
      "execution_count": null,
      "outputs": []
    },
    {
      "cell_type": "code",
      "source": [
        "def data_generator(data, batch_size):\n",
        "    td = data.sample(n = batch_size)\n",
        "    x1, x2, y = create_sequences(td.iloc[:, 1], td.iloc[:, 0], seq_len)\n",
        "    return [x2, x1, y]"
      ],
      "metadata": {
        "execution": {
          "iopub.status.busy": "2022-01-10T14:05:01.051409Z",
          "iopub.execute_input": "2022-01-10T14:05:01.051697Z",
          "iopub.status.idle": "2022-01-10T14:05:01.056913Z",
          "shell.execute_reply.started": "2022-01-10T14:05:01.051664Z",
          "shell.execute_reply": "2022-01-10T14:05:01.056067Z"
        },
        "trusted": true,
        "id": "jUKFZcZ2fYxR"
      },
      "execution_count": null,
      "outputs": []
    },
    {
      "cell_type": "code",
      "source": [
        "optimizer = keras.optimizers.Adam()\n",
        "loss_object = keras.losses.CategoricalCrossentropy()\n",
        "\n",
        "def cal_loss(y, y_pred):\n",
        "    loss = loss_object(y, y_pred)\n",
        "    return tf.reduce_mean(loss)\n"
      ],
      "metadata": {
        "execution": {
          "iopub.status.busy": "2022-01-10T14:05:01.657550Z",
          "iopub.execute_input": "2022-01-10T14:05:01.658412Z",
          "iopub.status.idle": "2022-01-10T14:05:01.665726Z",
          "shell.execute_reply.started": "2022-01-10T14:05:01.658377Z",
          "shell.execute_reply": "2022-01-10T14:05:01.664628Z"
        },
        "trusted": true,
        "id": "8_nH1hdxfYxR"
      },
      "execution_count": null,
      "outputs": []
    },
    {
      "cell_type": "code",
      "source": [
        "@tf.function\n",
        "def train_step(features, seqs, y):\n",
        "    \n",
        "    with tf.GradientTape() as tape:\n",
        "        pred = model(features, seqs)\n",
        "        loss = cal_loss(y, pred)\n",
        "        \n",
        "        trainable_vars = model.trainable_variables\n",
        "        gradients = tape.gradient(loss, trainable_vars)\n",
        "        optimizer.apply_gradients(zip(gradients, trainable_vars))\n",
        "  \n",
        "    return loss"
      ],
      "metadata": {
        "execution": {
          "iopub.status.busy": "2022-01-10T14:05:02.212164Z",
          "iopub.execute_input": "2022-01-10T14:05:02.212651Z",
          "iopub.status.idle": "2022-01-10T14:05:02.218638Z",
          "shell.execute_reply.started": "2022-01-10T14:05:02.212618Z",
          "shell.execute_reply": "2022-01-10T14:05:02.217817Z"
        },
        "trusted": true,
        "id": "DRAZGpRAfYxS"
      },
      "execution_count": null,
      "outputs": []
    },
    {
      "cell_type": "code",
      "source": [
        "def val_step(features, seqs, y):\n",
        "    pred = model(features, seqs)\n",
        "    loss = cal_loss(y, pred)\n",
        "    return loss"
      ],
      "metadata": {
        "execution": {
          "iopub.status.busy": "2022-01-10T14:05:03.382129Z",
          "iopub.execute_input": "2022-01-10T14:05:03.382936Z",
          "iopub.status.idle": "2022-01-10T14:05:03.388174Z",
          "shell.execute_reply.started": "2022-01-10T14:05:03.382902Z",
          "shell.execute_reply": "2022-01-10T14:05:03.387460Z"
        },
        "trusted": true,
        "id": "SOKfkGk2fYxS"
      },
      "execution_count": null,
      "outputs": []
    },
    {
      "cell_type": "code",
      "source": [
        "epochs = 5\n",
        "batch_size = 32\n",
        "\n",
        "kf = KFold(n_splits = 5)\n",
        "\n",
        "for i in range(epochs):\n",
        "    print(\"Epoch:\", i+1)\n",
        "    train_loss, test_loss = 0,0\n",
        "    \n",
        "    train_idx, test_idx = next(kf.split(df))\n",
        "    df_train, df_test = df.iloc[train_idx], df.iloc[test_idx]\n",
        "    \n",
        "    train_n_steps = len(df_train)//batch_size\n",
        "    val_n_steps = len(df_test)//batch_size\n",
        "    \n",
        "    for _ in tqdm(range(train_n_steps)):\n",
        "        x1, x2, y = data_generator(df_train, batch_size)\n",
        "        train_loss += train_step(x1, x2, y)\n",
        "    \n",
        "    for _ in range(val_n_steps):\n",
        "        x1, x2, y = data_generator(df_test, batch_size)\n",
        "        test_loss += val_step(x1,x2,y)\n",
        "        \n",
        "    test_loss = test_loss / val_n_steps    \n",
        "    train_loss = train_loss / train_n_steps\n",
        "    \n",
        "    loss.append(train_loss)\n",
        "    val.append(test_loss)\n",
        "    \n",
        "    print(\"Train Loss: {}, Test Loss: {}\".format(train_loss, test_loss))\n",
        "    "
      ],
      "metadata": {
        "execution": {
          "iopub.status.busy": "2022-01-10T14:05:23.850015Z",
          "iopub.execute_input": "2022-01-10T14:05:23.850276Z",
          "iopub.status.idle": "2022-01-10T14:13:31.387449Z",
          "shell.execute_reply.started": "2022-01-10T14:05:23.850247Z",
          "shell.execute_reply": "2022-01-10T14:13:31.386706Z"
        },
        "trusted": true,
        "id": "qZbqjJTIfYxS",
        "colab": {
          "base_uri": "https://localhost:8080/"
        },
        "outputId": "4660fa06-6d0f-4bd5-84de-ec0b22070b08"
      },
      "execution_count": null,
      "outputs": [
        {
          "output_type": "stream",
          "name": "stdout",
          "text": [
            "Epoch: 1\n"
          ]
        },
        {
          "output_type": "stream",
          "name": "stderr",
          "text": [
            "  0%|          | 4/1011 [00:06<27:07,  1.62s/it]"
          ]
        },
        {
          "output_type": "stream",
          "name": "stdout",
          "text": [
            "WARNING:tensorflow:5 out of the last 6 calls to <function train_step at 0x7efe20de2710> triggered tf.function retracing. Tracing is expensive and the excessive number of tracings could be due to (1) creating @tf.function repeatedly in a loop, (2) passing tensors with different shapes, (3) passing Python objects instead of tensors. For (1), please define your @tf.function outside of the loop. For (2), @tf.function has experimental_relax_shapes=True option that relaxes argument shapes that can avoid unnecessary retracing. For (3), please refer to https://www.tensorflow.org/guide/function#controlling_retracing and https://www.tensorflow.org/api_docs/python/tf/function for  more details.\n"
          ]
        },
        {
          "output_type": "stream",
          "name": "stderr",
          "text": [
            "\r  1%|          | 6/1011 [00:08<19:14,  1.15s/it]"
          ]
        },
        {
          "output_type": "stream",
          "name": "stdout",
          "text": [
            "WARNING:tensorflow:6 out of the last 7 calls to <function train_step at 0x7efe20de2710> triggered tf.function retracing. Tracing is expensive and the excessive number of tracings could be due to (1) creating @tf.function repeatedly in a loop, (2) passing tensors with different shapes, (3) passing Python objects instead of tensors. For (1), please define your @tf.function outside of the loop. For (2), @tf.function has experimental_relax_shapes=True option that relaxes argument shapes that can avoid unnecessary retracing. For (3), please refer to https://www.tensorflow.org/guide/function#controlling_retracing and https://www.tensorflow.org/api_docs/python/tf/function for  more details.\n"
          ]
        },
        {
          "output_type": "stream",
          "name": "stderr",
          "text": [
            "100%|██████████| 1011/1011 [03:11<00:00,  5.28it/s]\n"
          ]
        },
        {
          "output_type": "stream",
          "name": "stdout",
          "text": [
            "Train Loss: 3.8778650760650635, Test Loss: 3.4540812969207764\n",
            "Epoch: 2\n"
          ]
        },
        {
          "output_type": "stream",
          "name": "stderr",
          "text": [
            "100%|██████████| 1011/1011 [00:56<00:00, 17.84it/s]\n"
          ]
        },
        {
          "output_type": "stream",
          "name": "stdout",
          "text": [
            "Train Loss: 2.825653553009033, Test Loss: 3.3445894718170166\n",
            "Epoch: 3\n"
          ]
        },
        {
          "output_type": "stream",
          "name": "stderr",
          "text": [
            "100%|██████████| 1011/1011 [00:43<00:00, 23.48it/s]\n"
          ]
        },
        {
          "output_type": "stream",
          "name": "stdout",
          "text": [
            "Train Loss: 2.3935811519622803, Test Loss: 3.4294772148132324\n",
            "Epoch: 4\n"
          ]
        },
        {
          "output_type": "stream",
          "name": "stderr",
          "text": [
            "100%|██████████| 1011/1011 [00:43<00:00, 23.21it/s]\n"
          ]
        },
        {
          "output_type": "stream",
          "name": "stdout",
          "text": [
            "Train Loss: 2.075169801712036, Test Loss: 3.597977876663208\n",
            "Epoch: 5\n"
          ]
        },
        {
          "output_type": "stream",
          "name": "stderr",
          "text": [
            "100%|██████████| 1011/1011 [00:40<00:00, 24.78it/s]\n"
          ]
        },
        {
          "output_type": "stream",
          "name": "stdout",
          "text": [
            "Train Loss: 1.808955192565918, Test Loss: 3.767366886138916\n"
          ]
        }
      ]
    },
    {
      "cell_type": "code",
      "source": [
        "optimizer.lr.assign(optimizer.lr/2)"
      ],
      "metadata": {
        "execution": {
          "iopub.status.busy": "2022-01-10T13:14:38.017494Z",
          "iopub.execute_input": "2022-01-10T13:14:38.017804Z",
          "iopub.status.idle": "2022-01-10T13:14:38.030746Z",
          "shell.execute_reply.started": "2022-01-10T13:14:38.017769Z",
          "shell.execute_reply": "2022-01-10T13:14:38.029148Z"
        },
        "trusted": true,
        "id": "eNLwJ0HdfYxS",
        "colab": {
          "base_uri": "https://localhost:8080/"
        },
        "outputId": "60420ea3-d2d9-4b26-aba3-64455eac18ce"
      },
      "execution_count": null,
      "outputs": [
        {
          "output_type": "execute_result",
          "data": {
            "text/plain": [
              "<tf.Variable 'UnreadVariable' shape=() dtype=float32, numpy=0.0005>"
            ]
          },
          "metadata": {},
          "execution_count": 60
        }
      ]
    },
    {
      "cell_type": "code",
      "source": [
        "plt.xlabel(\"Epochs\")\n",
        "plt.ylabel(\"Loss\")\n",
        "plt.plot(np.arange(len(loss))+ 1, loss, '--r')\n",
        "plt.plot(np.arange(len(val)) + 1, val, '--g')\n",
        "plt.show()"
      ],
      "metadata": {
        "execution": {
          "iopub.status.busy": "2022-01-10T14:14:49.287435Z",
          "iopub.execute_input": "2022-01-10T14:14:49.288124Z",
          "iopub.status.idle": "2022-01-10T14:14:49.503130Z",
          "shell.execute_reply.started": "2022-01-10T14:14:49.288086Z",
          "shell.execute_reply": "2022-01-10T14:14:49.502436Z"
        },
        "trusted": true,
        "id": "UgAQ9CGDfYxS",
        "colab": {
          "base_uri": "https://localhost:8080/",
          "height": 361
        },
        "outputId": "8a716ba8-154c-4c55-f4ba-bb0be404c5d4"
      },
      "execution_count": null,
      "outputs": [
        {
          "output_type": "display_data",
          "data": {
            "image/png": "[encoded data removed]",
            "text/plain": [
              "<Figure size 576x396 with 1 Axes>"
            ]
          },
          "metadata": {}
        }
      ]
    },
    {
      "cell_type": "code",
      "source": [
        "# model.save('Dec30_loss=1.536.h5')"
      ],
      "metadata": {
        "execution": {
          "iopub.status.busy": "2021-12-30T14:10:43.697023Z",
          "iopub.execute_input": "2021-12-30T14:10:43.697277Z",
          "iopub.status.idle": "2021-12-30T14:10:44.248206Z",
          "shell.execute_reply.started": "2021-12-30T14:10:43.697246Z",
          "shell.execute_reply": "2021-12-30T14:10:44.247472Z"
        },
        "trusted": true,
        "id": "QXb_oqHXfYxT"
      },
      "execution_count": null,
      "outputs": []
    },
    {
      "cell_type": "code",
      "source": [
        "def predict_caption(image):\n",
        "    \n",
        "    in_text = 'startseq'\n",
        "\n",
        "    for iword in range(30):\n",
        "        sequence = tokenizer.texts_to_sequences([in_text])\n",
        "        sequence = pad_sequences(sequence, maxlen = seq_len, padding = 'post')[0]\n",
        "        sequence = np.array(sequence).reshape(1, -1)\n",
        "    \n",
        "        yhat = model(image,sequence)\n",
        "        yhat = np.argmax(yhat)\n",
        "        \n",
        "        newword = idx2word[yhat]\n",
        "        # print(newword)\n",
        "        in_text += \" \" + newword\n",
        "        \n",
        "        if newword == \"endseq\":\n",
        "            break\n",
        "            \n",
        "    return(in_text)"
      ],
      "metadata": {
        "execution": {
          "iopub.status.busy": "2022-01-10T14:33:11.023832Z",
          "iopub.execute_input": "2022-01-10T14:33:11.024627Z",
          "iopub.status.idle": "2022-01-10T14:33:11.030407Z",
          "shell.execute_reply.started": "2022-01-10T14:33:11.024582Z",
          "shell.execute_reply": "2022-01-10T14:33:11.029721Z"
        },
        "trusted": true,
        "id": "qe1jP8fYfYxT"
      },
      "execution_count": null,
      "outputs": []
    },
    {
      "cell_type": "code",
      "source": [
        "\n",
        "# url = 'https://media.istockphoto.com/photos/group-of-young-people-taking-selfie-picture-id503139097'\n",
        "url = 'https://i.insider.com/5afc93865e48ec51008b458a?width=600&format=jpeg&auto=webp'\n",
        "# url = 'https://i0.wp.com/post.healthline.com/wp-content/uploads/2020/07/Woman-riding-bycicle-at-the-park-1296x728-header.jpg?w=1155&h=1528'\n",
        "import requests, io\n",
        "import numpy as np\n",
        "from PIL import Image\n",
        "\n",
        "\n",
        "response = requests.get(url)\n",
        "bytes_im = io.BytesIO(response.content)\n",
        "img = op.cvtColor(np.array(Image.open(bytes_im)), op.COLOR_BGR2RGB)\n",
        "\n",
        "img = op.resize(img, (224,224))\n",
        "img = op.cvtColor(img, op.COLOR_BGR2RGB)\n",
        "plt.axis('off')\n",
        "plt.imshow(img)\n",
        "img = img.reshape(1, img.shape[0], img.shape[1], img.shape[2])\n",
        "img = img/255.0\n"
      ],
      "metadata": {
        "execution": {
          "iopub.status.busy": "2022-01-10T14:33:12.372254Z",
          "iopub.execute_input": "2022-01-10T14:33:12.372721Z",
          "iopub.status.idle": "2022-01-10T14:33:12.663160Z",
          "shell.execute_reply.started": "2022-01-10T14:33:12.372685Z",
          "shell.execute_reply": "2022-01-10T14:33:12.662445Z"
        },
        "trusted": true,
        "id": "w2w-TRblfYxT",
        "colab": {
          "base_uri": "https://localhost:8080/",
          "height": 330
        },
        "outputId": "0401e7ca-e395-43ca-f272-05384f8f9b7e"
      },
      "execution_count": null,
      "outputs": [
        {
          "output_type": "display_data",
          "data": {
            "image/png": "[encoded data removed]",
            "text/plain": [
              "<Figure size 576x396 with 1 Axes>"
            ]
          },
          "metadata": {}
        }
      ]
    },
    {
      "cell_type": "code",
      "source": [
        "img_vec = base_model.predict(img).reshape(1,-1)"
      ],
      "metadata": {
        "execution": {
          "iopub.status.busy": "2022-01-10T14:33:13.845377Z",
          "iopub.execute_input": "2022-01-10T14:33:13.845643Z",
          "iopub.status.idle": "2022-01-10T14:33:18.573160Z",
          "shell.execute_reply.started": "2022-01-10T14:33:13.845614Z",
          "shell.execute_reply": "2022-01-10T14:33:18.572289Z"
        },
        "trusted": true,
        "id": "7H3ytnn9fYxT"
      },
      "execution_count": null,
      "outputs": []
    },
    {
      "cell_type": "code",
      "source": [
        "img_vec.shape"
      ],
      "metadata": {
        "execution": {
          "iopub.status.busy": "2022-01-10T14:33:18.575241Z",
          "iopub.execute_input": "2022-01-10T14:33:18.575668Z",
          "iopub.status.idle": "2022-01-10T14:33:18.586997Z",
          "shell.execute_reply.started": "2022-01-10T14:33:18.575626Z",
          "shell.execute_reply": "2022-01-10T14:33:18.585928Z"
        },
        "trusted": true,
        "id": "3ttDO3SyfYxT",
        "colab": {
          "base_uri": "https://localhost:8080/"
        },
        "outputId": "6f873793-39e2-4791-dae4-4be7714197d9"
      },
      "execution_count": null,
      "outputs": [
        {
          "output_type": "execute_result",
          "data": {
            "text/plain": [
              "(1, 1024)"
            ]
          },
          "metadata": {},
          "execution_count": 86
        }
      ]
    },
    {
      "cell_type": "code",
      "source": [
        "ans = predict_caption(img_vec)\n",
        "ans"
      ],
      "metadata": {
        "execution": {
          "iopub.status.busy": "2022-01-10T14:33:18.588818Z",
          "iopub.execute_input": "2022-01-10T14:33:18.589968Z",
          "iopub.status.idle": "2022-01-10T14:33:18.696369Z",
          "shell.execute_reply.started": "2022-01-10T14:33:18.589927Z",
          "shell.execute_reply": "2022-01-10T14:33:18.695635Z"
        },
        "trusted": true,
        "id": "9Md7mTHgfYxT",
        "colab": {
          "base_uri": "https://localhost:8080/",
          "height": 35
        },
        "outputId": "4045286c-ad84-4167-dc12-84f1ddc12d2b"
      },
      "execution_count": null,
      "outputs": [
        {
          "output_type": "execute_result",
          "data": {
            "application/vnd.google.colaboratory.intrinsic+json": {
              "type": "string"
            },
            "text/plain": [
              "'startseq a woman wearing a pink dress endseq'"
            ]
          },
          "metadata": {},
          "execution_count": 87
        }
      ]
    },
    {
      "cell_type": "code",
      "source": [
        "from nltk.translate.bleu_score import corpus_bleu\n",
        "\n",
        "def evaluate(df_valid):\n",
        "    ac, pr = [],[]\n",
        "    \n",
        "    for img, cap in zip(df_valid['image'], df_valid['caption']):\n",
        "        img = all_features[img].reshape(1, 1024)\n",
        "        ans = predict_caption(img)\n",
        "        ac.append(cap)\n",
        "        pr.append(ans)\n",
        "    \n",
        "    pr = np.array(pr)\n",
        "    ac = np.array([[i] for i in ac])\n",
        "        \n",
        "    print('BLEU-1: %f' % corpus_bleu(ac, pr, weights=(1.0, 0, 0, 0)))\n",
        "    print('BLEU-2: %f' % corpus_bleu(ac, pr, weights=(0.5, 0.5, 0, 0)))\n",
        "    print('BLEU-3: %f' % corpus_bleu(ac, pr, weights=(0.3, 0.3, 0.3, 0)))\n",
        "    print('BLEU-4: %f' % corpus_bleu(ac, pr, weights=(0.25, 0.25, 0.25, 0.25)))"
      ],
      "metadata": {
        "execution": {
          "iopub.status.busy": "2022-01-10T14:33:29.296904Z",
          "iopub.execute_input": "2022-01-10T14:33:29.297153Z",
          "iopub.status.idle": "2022-01-10T14:33:29.307666Z",
          "shell.execute_reply.started": "2022-01-10T14:33:29.297126Z",
          "shell.execute_reply": "2022-01-10T14:33:29.306863Z"
        },
        "trusted": true,
        "id": "9irw6YK-fYxU"
      },
      "execution_count": null,
      "outputs": []
    },
    {
      "cell_type": "code",
      "source": [
        "evaluate(df.sample(100))"
      ],
      "metadata": {
        "execution": {
          "iopub.status.busy": "2022-01-10T14:33:29.740376Z",
          "iopub.execute_input": "2022-01-10T14:33:29.740790Z",
          "iopub.status.idle": "2022-01-10T14:33:39.595740Z",
          "shell.execute_reply.started": "2022-01-10T14:33:29.740755Z",
          "shell.execute_reply": "2022-01-10T14:33:39.594262Z"
        },
        "trusted": true,
        "id": "Do6A3yWJfYxU",
        "colab": {
          "base_uri": "https://localhost:8080/"
        },
        "outputId": "1fdefb67-4a7b-486a-aaed-f2b174ec566c"
      },
      "execution_count": null,
      "outputs": [
        {
          "output_type": "stream",
          "name": "stdout",
          "text": [
            "BLEU-1: 0.656032\n",
            "BLEU-2: 0.568057\n",
            "BLEU-3: 0.520471\n",
            "BLEU-4: 0.445510\n"
          ]
        }
      ]
    },
    {
      "cell_type": "code",
      "source": [
        ""
      ],
      "metadata": {
        "execution": {
          "iopub.status.busy": "2022-01-08T15:18:24.1006Z",
          "iopub.execute_input": "2022-01-08T15:18:24.100858Z",
          "iopub.status.idle": "2022-01-08T15:18:24.108949Z",
          "shell.execute_reply.started": "2022-01-08T15:18:24.10083Z",
          "shell.execute_reply": "2022-01-08T15:18:24.108283Z"
        },
        "trusted": true,
        "id": "O9vvIcpTfYxU"
      },
      "execution_count": null,
      "outputs": []
    }
  ]
}